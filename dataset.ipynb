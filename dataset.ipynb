{
 "cells": [
  {
   "cell_type": "code",
   "execution_count": null,
   "metadata": {
    "collapsed": true,
    "pycharm": {
     "is_executing": true
    }
   },
   "outputs": [],
   "source": [
    "import pandas as pd\n",
    "from lib import unidecode_dataframe\n",
    "\n",
    "years = list(range(2017, 2021+1))\n",
    "\n",
    "df_sales = pd.DataFrame()\n",
    "for year in years:\n",
    "    print(f'{year} --->')  # verbose\n",
    "\n",
    "    df = pd.read_csv(f'data/DB-Anvisa-{year}.csv', low_memory=False, sep=',')\n",
    "    df.drop(columns=[\n",
    "        'UNIDADE_MEDIDA_PRINCIPIO_ATIVO', 'TIPO_UNIDADE_FARMACOTECNICA', 'CID10', 'UF_CONSELHO_PRESCRITOR'\n",
    "    ], inplace=True)\n",
    "\n",
    "    df.QTD_ATIVO_POR_UNID_FARMACOTEC = df.QTD_ATIVO_POR_UNID_FARMACOTEC.apply(lambda x: float(str(x).replace(',', '.')))\n",
    "    df.QTD_UNIDADE_FARMACOTECNICA = df.QTD_UNIDADE_FARMACOTECNICA.apply(lambda x: float(str(x).replace(',', '.')))\n",
    "\n",
    "    # df_.IDADE = df_.apply(lambda x: int(x.IDADE / 12) if x.UNIDADE_IDADE == 2 else x.IDADE, axis=1)\n",
    "    # TODO ajeitar IDADE, limitar IDADE\n",
    "    # TODO refazer QTD_ATIVO_POR_UNID_FARMACO\n",
    "\n",
    "    unidecode_dataframe(df)\n",
    "\n",
    "    df_sales = pd.concat([df_sales, df], ignore_index=True)\n",
    "\n",
    "    print(f'{year} <---')  # verbose\n",
    "df_sales.to_csv('data/sales.csv', index=False)\n",
    "print('done!!')  # verbose"
   ]
  },
  {
   "cell_type": "code",
   "execution_count": 54,
   "outputs": [],
   "source": [
    "import pandas as pd\n",
    "from lib import unidecode_dataframe\n",
    "\n",
    "df_use = pd.read_csv('data/use_raw.csv', low_memory=False, sep=';', encoding='iso-8859-1', usecols=['CLASSE_TERAPEUTICA', 'PRINCIPIO_ATIVO'])\n",
    "\n",
    "unidecode_dataframe(df_use)\n",
    "\n",
    "# TODO verificar se os nomes nao estao diferentes por conta do encoding\n",
    "# TODO verificar nomes com '\\+'\n",
    "\n",
    "principio_ativo = list(pd.read_csv('data/sales.csv', usecols=['PRINCIPIO_ATIVO'])['PRINCIPIO_ATIVO'].unique())\n",
    "\n",
    "df_use = df_use.loc[df_use.PRINCIPIO_ATIVO.isin(principio_ativo)]\n",
    "\n",
    "df_use = df_use[['CLASSE_TERAPEUTICA', 'PRINCIPIO_ATIVO']].value_counts().reset_index()\n",
    "\n",
    "df_use.to_csv('data/use.csv', index=False, columns=['CLASSE_TERAPEUTICA', 'PRINCIPIO_ATIVO'])"
   ],
   "metadata": {
    "collapsed": false
   }
  }
 ],
 "metadata": {
  "kernelspec": {
   "display_name": "Python 3",
   "language": "python",
   "name": "python3"
  },
  "language_info": {
   "codemirror_mode": {
    "name": "ipython",
    "version": 2
   },
   "file_extension": ".py",
   "mimetype": "text/x-python",
   "name": "python",
   "nbconvert_exporter": "python",
   "pygments_lexer": "ipython2",
   "version": "2.7.6"
  }
 },
 "nbformat": 4,
 "nbformat_minor": 0
}

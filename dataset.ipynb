{
 "cells": [
  {
   "cell_type": "code",
   "execution_count": null,
   "metadata": {
    "collapsed": true,
    "pycharm": {
     "is_executing": true
    }
   },
   "outputs": [],
   "source": [
    "# install dependencies\n",
    "! pip install ydata-profiling   # its necessary to restart the kernel"
   ]
  },
  {
   "cell_type": "code",
   "execution_count": 3,
   "outputs": [],
   "source": [
    "import pandas as pd\n",
    "import datetime\n",
    "\n",
    "# read raw_df\n",
    "df = pd.read_csv('https://raw.githubusercontent.com/srlucasromulo/PPGCC-DS-DeepLearning/main/data/sjdr_raw.csv', low_memory=False, sep=',')\n",
    "\n",
    "# rectify date/hour columns\n",
    "df.data = df.data.apply(lambda x: datetime.datetime.strptime(x, '%Y-%m-%d').date())\n",
    "df.hora = df.hora.apply(lambda x: datetime.time(int(x/100)))\n",
    "\n",
    "# separate day, month, year\n",
    "df['dia'] = df.data.apply(lambda x: x.day)\n",
    "df['mes'] = df.data.apply(lambda x: x.month)\n",
    "df['ano'] = df.data.apply(lambda x: x.year)\n",
    "\n",
    "# join date/hour\n",
    "df['data_hora'] = df.apply(lambda x: datetime.datetime.combine(x['data'], x['hora']), axis=1)\n",
    "df.sort_values(by='data_hora', inplace=True, ignore_index=True)\n",
    "\n",
    "# create time feature (represents time passing) from index\n",
    "df['time'] = df.index\n",
    "\n",
    "# create seasons features\n",
    "def get_season(d):\n",
    "\tif d < datetime.date(day=21, month=3, year=d.year): return 'verão'\n",
    "\tif datetime.date(day=21, month=3, year=d.year) <= d < datetime.date(day=21, month=6, year=d.year): return 'outono'\n",
    "\tif datetime.date(day=21, month=6, year=d.year) <= d < datetime.date(day=23, month=9, year=d.year): return'inverno'\n",
    "\tif datetime.date(day=23, month=9, year=d.year) <= d < datetime.date(day=21, month=12, year=d.year): return'primavera'\n",
    "\tif datetime.date(day=21, month=12, year=d.year) <= d: return'verão'\n",
    "df['estacao'] = df.data.apply(lambda x: get_season(x))\n",
    "\n",
    "# save to file\n",
    "df.to_csv('./data/sjdr.csv', sep=',', index=False)"
   ],
   "metadata": {
    "collapsed": false
   }
  },
  {
   "cell_type": "code",
   "execution_count": null,
   "outputs": [],
   "source": [],
   "metadata": {
    "collapsed": false
   }
  },
  {
   "cell_type": "code",
   "execution_count": 101,
   "outputs": [],
   "source": [
    "# profile dataset\n",
    "from ydata_profiling import ProfileReport\n",
    "import pandas as pd\n",
    "\n",
    "df = pd.read_csv('https://raw.githubusercontent.com/srlucasromulo/PPGCC-DS-DeepLearning/main/data/sjdr.csv', low_memory=False, sep=',')\n",
    "df = df.drop(columns=['data', 'hora'])\n",
    "\n",
    "# make profile\n",
    "profile = ProfileReport(df, title=\"Projeto Mestrado\", explorative=True, tsmode=True, sortby='time')\n",
    "\n",
    "# save profile\n",
    "profile.to_file(\"report_raw.html\")"
   ],
   "metadata": {
    "collapsed": false
   }
  },
  {
   "cell_type": "code",
   "execution_count": null,
   "outputs": [],
   "source": [],
   "metadata": {
    "collapsed": false,
    "pycharm": {
     "is_executing": true
    }
   }
  }
 ],
 "metadata": {
  "kernelspec": {
   "display_name": "Python 3",
   "language": "python",
   "name": "python3"
  },
  "language_info": {
   "codemirror_mode": {
    "name": "ipython",
    "version": 2
   },
   "file_extension": ".py",
   "mimetype": "text/x-python",
   "name": "python",
   "nbconvert_exporter": "python",
   "pygments_lexer": "ipython2",
   "version": "2.7.6"
  }
 },
 "nbformat": 4,
 "nbformat_minor": 0
}
